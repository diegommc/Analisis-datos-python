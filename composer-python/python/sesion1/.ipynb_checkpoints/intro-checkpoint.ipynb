{
 "cells": [
  {
   "cell_type": "code",
   "execution_count": 1,
   "id": "cf18f6cb-3951-4283-85e7-1f4fc1be9329",
   "metadata": {},
   "outputs": [
    {
     "name": "stdout",
     "output_type": "stream",
     "text": [
      "hola mundo\n"
     ]
    }
   ],
   "source": [
    "#indentacion \n",
    "print(\"hola mundo\")"
   ]
  },
  {
   "cell_type": "code",
   "execution_count": 4,
   "id": "76289df9-b87b-4f6c-ba8f-3c1202882421",
   "metadata": {},
   "outputs": [
    {
     "name": "stdout",
     "output_type": "stream",
     "text": [
      "false\n"
     ]
    }
   ],
   "source": [
    "variable=4\n",
    "if variable == 5:\n",
    "    print(\"verdadero\")\n",
    "else:\n",
    "    print(\"false\")"
   ]
  },
  {
   "cell_type": "code",
   "execution_count": 5,
   "id": "5c2c9d01-905b-4e38-b12b-7cd2dd3493c1",
   "metadata": {},
   "outputs": [
    {
     "name": "stdout",
     "output_type": "stream",
     "text": [
      "2\n"
     ]
    }
   ],
   "source": [
    "#esto es un comentario\n",
    "print(2)"
   ]
  },
  {
   "cell_type": "code",
   "execution_count": 6,
   "id": "ccfa82c7-9a6d-4e91-88df-dd0edc74ce58",
   "metadata": {},
   "outputs": [],
   "source": [
    "#variables\n",
    "a= 5\n",
    "b=\"diego\"\n",
    "c= 2.5\n"
   ]
  },
  {
   "cell_type": "code",
   "execution_count": 9,
   "id": "ef2b3f9a-7061-4c57-b818-4e4384478080",
   "metadata": {},
   "outputs": [
    {
     "name": "stdout",
     "output_type": "stream",
     "text": [
      "<class 'float'>\n"
     ]
    }
   ],
   "source": [
    "print(type(c))"
   ]
  },
  {
   "cell_type": "code",
   "execution_count": 10,
   "id": "6d0e7d14-c53a-4362-87be-408b4e3bc5e6",
   "metadata": {},
   "outputs": [],
   "source": [
    "x,y,z=\"lunes\",\"martes\",\"miercoles\""
   ]
  },
  {
   "cell_type": "code",
   "execution_count": 11,
   "id": "19af13e4-bf5d-497c-ac0d-20fd6605885a",
   "metadata": {},
   "outputs": [
    {
     "name": "stdout",
     "output_type": "stream",
     "text": [
      "miercoles\n"
     ]
    }
   ],
   "source": [
    "print(z)"
   ]
  },
  {
   "cell_type": "code",
   "execution_count": 12,
   "id": "1a457805-c1df-4e0c-9c09-60b72399a3f2",
   "metadata": {},
   "outputs": [
    {
     "name": "stdout",
     "output_type": "stream",
     "text": [
      "e\n"
     ]
    }
   ],
   "source": [
    "print(x[3])"
   ]
  },
  {
   "cell_type": "code",
   "execution_count": 14,
   "id": "9e8bac41-89b3-48cf-a18e-9831591a5f24",
   "metadata": {},
   "outputs": [
    {
     "name": "stdout",
     "output_type": "stream",
     "text": [
      "es\n"
     ]
    }
   ],
   "source": [
    "print(x[3:])"
   ]
  },
  {
   "cell_type": "code",
   "execution_count": 15,
   "id": "1194e99e-0e4e-4709-848f-c0d6e3130482",
   "metadata": {},
   "outputs": [
    {
     "name": "stdout",
     "output_type": "stream",
     "text": [
      "[]\n"
     ]
    }
   ],
   "source": [
    "#listas\n",
    "lista= []\n",
    "print(lista)"
   ]
  },
  {
   "cell_type": "code",
   "execution_count": 17,
   "id": "a8b38b54-106d-438f-9149-b5a38166d9fc",
   "metadata": {},
   "outputs": [],
   "source": [
    "lista2=[1,2,3,4] #lista solo de enteros"
   ]
  },
  {
   "cell_type": "code",
   "execution_count": 18,
   "id": "da1e2c1f-85af-4110-95c7-0b62f734a4e3",
   "metadata": {},
   "outputs": [],
   "source": [
    "lista3=[1,\"lunes\",23.5]"
   ]
  },
  {
   "cell_type": "code",
   "execution_count": 20,
   "id": "d447fb3d-cab5-4c48-9515-9335241edc21",
   "metadata": {},
   "outputs": [
    {
     "name": "stdout",
     "output_type": "stream",
     "text": [
      "<class 'int'>\n"
     ]
    }
   ],
   "source": [
    "print(type(lista3[0]))"
   ]
  },
  {
   "cell_type": "code",
   "execution_count": 21,
   "id": "97acf207-92a1-40ff-8f17-6ca44c845f25",
   "metadata": {},
   "outputs": [],
   "source": [
    "lista4=[1,\"lunes\",[1,2,3]]"
   ]
  },
  {
   "cell_type": "code",
   "execution_count": 23,
   "id": "49fff282-614d-49da-9df8-fce29f4f5183",
   "metadata": {},
   "outputs": [],
   "source": [
    "lista5 =[\"a\",'b','c','d','e','f','g']"
   ]
  },
  {
   "cell_type": "code",
   "execution_count": 25,
   "id": "92f9ac0d-53e3-4d77-bc93-11b183ec9053",
   "metadata": {},
   "outputs": [
    {
     "name": "stdout",
     "output_type": "stream",
     "text": [
      "f\n"
     ]
    }
   ],
   "source": [
    "print(lista5[5])"
   ]
  },
  {
   "cell_type": "code",
   "execution_count": 26,
   "id": "2809b2ee-875c-488d-a487-5f5ee5713604",
   "metadata": {},
   "outputs": [
    {
     "name": "stdout",
     "output_type": "stream",
     "text": [
      "g\n"
     ]
    }
   ],
   "source": [
    "print(lista5[-1])"
   ]
  },
  {
   "cell_type": "code",
   "execution_count": 28,
   "id": "ed5fe721-cb72-47f7-8343-d2a16b571251",
   "metadata": {},
   "outputs": [
    {
     "name": "stdout",
     "output_type": "stream",
     "text": [
      "2\n"
     ]
    }
   ],
   "source": [
    "print(lista4[2][1]) #acceder a lista de la lista"
   ]
  },
  {
   "cell_type": "code",
   "execution_count": 29,
   "id": "465ddcd3-5d34-4219-96db-11fb9f9a75f4",
   "metadata": {},
   "outputs": [],
   "source": [
    "lista5[1]=y"
   ]
  },
  {
   "cell_type": "code",
   "execution_count": 30,
   "id": "e060807c-07a1-40d0-95bf-234e7e86f2ae",
   "metadata": {},
   "outputs": [
    {
     "data": {
      "text/plain": [
       "['a', 'martes', 'c', 'd', 'e', 'f', 'g']"
      ]
     },
     "execution_count": 30,
     "metadata": {},
     "output_type": "execute_result"
    }
   ],
   "source": [
    "lista5"
   ]
  },
  {
   "cell_type": "code",
   "execution_count": 31,
   "id": "19b59f33-6891-44f9-a2d6-400e02bcba9e",
   "metadata": {},
   "outputs": [],
   "source": [
    "lista5.append(\"martes\")#agregar a lista"
   ]
  },
  {
   "cell_type": "code",
   "execution_count": 32,
   "id": "c2f963d0-3dd5-4d17-b632-4a7d4eeba059",
   "metadata": {},
   "outputs": [
    {
     "data": {
      "text/plain": [
       "['a', 'martes', 'c', 'd', 'e', 'f', 'g', 'martes']"
      ]
     },
     "execution_count": 32,
     "metadata": {},
     "output_type": "execute_result"
    }
   ],
   "source": [
    "lista5"
   ]
  },
  {
   "cell_type": "code",
   "execution_count": 33,
   "id": "60f1216b-79a8-4985-8cc6-653543cb5765",
   "metadata": {},
   "outputs": [
    {
     "data": {
      "text/plain": [
       "['a', 'martes', 'c', 'd', 'e', 'f', 'g', 'martes', 9, 1, 3]"
      ]
     },
     "execution_count": 33,
     "metadata": {},
     "output_type": "execute_result"
    }
   ],
   "source": [
    "lista5.extend([9,1,3])\n",
    "lista5"
   ]
  },
  {
   "cell_type": "code",
   "execution_count": 34,
   "id": "03ccd570-fecc-4fec-b878-5b708b44b911",
   "metadata": {},
   "outputs": [
    {
     "data": {
      "text/plain": [
       "['a', 'martes', 'c', 'd', 'e', 'f', 'g', 'martes', 9, 1, 3, [9, 1, 3]]"
      ]
     },
     "execution_count": 34,
     "metadata": {},
     "output_type": "execute_result"
    }
   ],
   "source": [
    "lista5.append([9,1,3])#diferente exxtend mete una lista a la lista pero los elementos y append mete la lista entera en una posicion\n",
    "lista5"
   ]
  },
  {
   "cell_type": "code",
   "execution_count": 35,
   "id": "a3308f6f-895d-4a15-92fa-9404595d9e55",
   "metadata": {},
   "outputs": [
    {
     "name": "stdout",
     "output_type": "stream",
     "text": [
      "a\n",
      "martes\n",
      "c\n",
      "d\n",
      "e\n",
      "f\n",
      "g\n",
      "martes\n",
      "9\n",
      "1\n",
      "3\n",
      "[9, 1, 3]\n"
     ]
    }
   ],
   "source": [
    "for var in lista5:\n",
    "    print(var)"
   ]
  },
  {
   "cell_type": "code",
   "execution_count": 36,
   "id": "879c7687-d988-4e66-99d3-e111b4514a14",
   "metadata": {},
   "outputs": [
    {
     "name": "stdout",
     "output_type": "stream",
     "text": [
      "(1, 2, ('lunes', 'Martes')) (1, 2, 3)\n"
     ]
    }
   ],
   "source": [
    "#Tuplas no podemos cambiar los elementos una vez hechas\n",
    "\n",
    "tupla = ()\n",
    "\n",
    "#tuplaint\n",
    "tupla1= (1,2,3)\n",
    "\n",
    "#tupla mixta\n",
    "\n",
    "tupla2= (1,1.2,'ocho')\n",
    "#tupla anidada\n",
    "tupla=(1,2,('lunes','Martes'))\n",
    "\n",
    "print(tupla,tupla1)\n"
   ]
  },
  {
   "cell_type": "code",
   "execution_count": 38,
   "id": "f624ecc5-2562-45e7-af4b-05319b8fd392",
   "metadata": {},
   "outputs": [
    {
     "name": "stdout",
     "output_type": "stream",
     "text": [
      "<class 'tuple'>\n"
     ]
    }
   ],
   "source": [
    "tupla=('lun',)\n",
    "print(type(tupla))"
   ]
  },
  {
   "cell_type": "code",
   "execution_count": 40,
   "id": "2405b8a7-7934-4c98-91e9-2a96cd8f425e",
   "metadata": {},
   "outputs": [
    {
     "name": "stdout",
     "output_type": "stream",
     "text": [
      "<class 'tuple'>\n"
     ]
    }
   ],
   "source": [
    "tupla= 'lun','mar' #no es necesario el parentesis\n",
    "print(type(tupla))\n"
   ]
  },
  {
   "cell_type": "code",
   "execution_count": 42,
   "id": "dcc58cf3-0b73-40a3-b7b3-2cdf2809cdb6",
   "metadata": {},
   "outputs": [
    {
     "ename": "TypeError",
     "evalue": "'tuple' object does not support item assignment",
     "output_type": "error",
     "traceback": [
      "\u001b[0;31m---------------------------------------------------------------------------\u001b[0m",
      "\u001b[0;31mTypeError\u001b[0m                                 Traceback (most recent call last)",
      "Cell \u001b[0;32mIn[42], line 1\u001b[0m\n\u001b[0;32m----> 1\u001b[0m \u001b[43mtupla\u001b[49m\u001b[43m[\u001b[49m\u001b[38;5;241;43m1\u001b[39;49m\u001b[43m]\u001b[49m\u001b[38;5;241m=\u001b[39m \u001b[38;5;124m\"\u001b[39m\u001b[38;5;124mmier\u001b[39m\u001b[38;5;124m\"\u001b[39m\n",
      "\u001b[0;31mTypeError\u001b[0m: 'tuple' object does not support item assignment"
     ]
    }
   ],
   "source": [
    "tupla[1]= \"mier\""
   ]
  },
  {
   "cell_type": "code",
   "execution_count": 43,
   "id": "9d85e122-7859-428e-86c8-6e47a8af7140",
   "metadata": {},
   "outputs": [],
   "source": [
    "#diccionario\n",
    "diccionario={}"
   ]
  },
  {
   "cell_type": "code",
   "execution_count": 44,
   "id": "b7ec783b-001c-47da-b960-b4f3dcdf47db",
   "metadata": {},
   "outputs": [
    {
     "name": "stdout",
     "output_type": "stream",
     "text": [
      "{1: 'lunes', 2: 'mar', 3: 'mier'}\n"
     ]
    }
   ],
   "source": [
    "diccionario2={1:\"lunes\", 2:'mar', 3:'mier' }\n",
    "print(diccionario2)"
   ]
  },
  {
   "cell_type": "code",
   "execution_count": 46,
   "id": "d1d783f7-455d-46f2-aa0f-236c2ed28691",
   "metadata": {},
   "outputs": [
    {
     "name": "stdout",
     "output_type": "stream",
     "text": [
      "{1: 'lunes', 2: 'mar', 3: ['juan', 'ero']}\n"
     ]
    }
   ],
   "source": [
    "diccionario2={1:\"lunes\", 2:'mar', 3:['juan','ero'] }\n",
    "print(diccionario2) #lista en un diccionario"
   ]
  },
  {
   "cell_type": "code",
   "execution_count": 48,
   "id": "e84ca44e-4ab8-4d02-a6c0-955d5080a960",
   "metadata": {},
   "outputs": [
    {
     "data": {
      "text/plain": [
       "'lunes'"
      ]
     },
     "execution_count": 48,
     "metadata": {},
     "output_type": "execute_result"
    }
   ],
   "source": [
    "diccionario2[1]"
   ]
  },
  {
   "cell_type": "code",
   "execution_count": 51,
   "id": "dc9423b7-e197-4338-83d4-7a19321fe320",
   "metadata": {},
   "outputs": [
    {
     "name": "stdout",
     "output_type": "stream",
     "text": [
      "lunes\n"
     ]
    }
   ],
   "source": [
    "print(diccionario2.get(1))"
   ]
  },
  {
   "cell_type": "code",
   "execution_count": 53,
   "id": "1c977115-392b-47b1-b48c-a31f75d071e6",
   "metadata": {},
   "outputs": [
    {
     "name": "stdout",
     "output_type": "stream",
     "text": [
      "None\n"
     ]
    }
   ],
   "source": [
    "print(diccionario2.get(5)) #aunque no exista no te da error te mada un nulo"
   ]
  },
  {
   "cell_type": "code",
   "execution_count": 55,
   "id": "c2845ff1-c290-4d52-af6d-1e4a9301f730",
   "metadata": {},
   "outputs": [
    {
     "data": {
      "text/plain": [
       "{1: 'pedro', 2: 'mar', 3: ['juan', 'ero']}"
      ]
     },
     "execution_count": 55,
     "metadata": {},
     "output_type": "execute_result"
    }
   ],
   "source": [
    "diccionario2[1]='pedro' #cambiar un dato \n",
    "diccionario2"
   ]
  },
  {
   "cell_type": "code",
   "execution_count": 57,
   "id": "5ef9603f-af00-4d39-9f08-9321763de4f4",
   "metadata": {},
   "outputs": [
    {
     "data": {
      "text/plain": [
       "{1: 'pedro', 2: 'mar', 3: ['juan', 'ero'], 5: 'num5'}"
      ]
     },
     "execution_count": 57,
     "metadata": {},
     "output_type": "execute_result"
    }
   ],
   "source": [
    "diccionario2[5]= 'num5' #agrega una key y su dato\n",
    "diccionario2"
   ]
  },
  {
   "cell_type": "code",
   "execution_count": 58,
   "id": "9f97d977-8eb4-4cd1-93de-dd3ee2325257",
   "metadata": {},
   "outputs": [
    {
     "name": "stdout",
     "output_type": "stream",
     "text": [
      "elnumero es negativo\n"
     ]
    }
   ],
   "source": [
    "num=5    #estructura anidada \n",
    "if num>=0:\n",
    "    if num==0:\n",
    "        print('elnumero es 0')\n",
    "    else:\n",
    "        print('elnumero es negativo')\n",
    "else:\n",
    "    print('elnumero es negativo')"
   ]
  },
  {
   "cell_type": "code",
   "execution_count": 60,
   "id": "51438f8b-a0f2-4a5f-b245-a0cd64abea68",
   "metadata": {},
   "outputs": [
    {
     "name": "stdout",
     "output_type": "stream",
     "text": [
      "21\n"
     ]
    }
   ],
   "source": [
    "suma=0\n",
    "numeros= [1,2,3,4,5,6]\n",
    "for num in numeros:\n",
    "    suma = suma + num\n",
    "\n",
    "print(suma)"
   ]
  },
  {
   "cell_type": "code",
   "execution_count": 63,
   "id": "d1a8418e-0d3a-4e90-96b4-fa05264e1564",
   "metadata": {},
   "outputs": [
    {
     "name": "stdout",
     "output_type": "stream",
     "text": [
      "28\n"
     ]
    }
   ],
   "source": [
    "num=7\n",
    "i=1\n",
    "suma=0\n",
    "while i<= num:\n",
    "    suma= suma+i    \n",
    "    i=i+1\n",
    "print(suma)"
   ]
  },
  {
   "cell_type": "code",
   "execution_count": 64,
   "id": "2f0cd5cc-01e9-4e3c-a7b8-ce37ea416db1",
   "metadata": {},
   "outputs": [
    {
     "name": "stdout",
     "output_type": "stream",
     "text": [
      "c\n",
      "a\n",
      "d\n"
     ]
    }
   ],
   "source": [
    "for val in 'cadena':\n",
    "    if val=='e':\n",
    "        break\n",
    "    print(val)"
   ]
  },
  {
   "cell_type": "code",
   "execution_count": 65,
   "id": "8a840370-12cd-4c28-88ee-8a6b9d648c74",
   "metadata": {},
   "outputs": [
    {
     "name": "stdout",
     "output_type": "stream",
     "text": [
      "c\n",
      "a\n",
      "d\n",
      "e\n",
      "n\n",
      "a\n"
     ]
    }
   ],
   "source": [
    "for val in 'cadena':\n",
    "    if val=='e':\n",
    "        pass\n",
    "    print(val)"
   ]
  },
  {
   "cell_type": "code",
   "execution_count": 66,
   "id": "7d44544c-c108-46f1-8004-d37bdc70ef38",
   "metadata": {},
   "outputs": [],
   "source": [
    "def mi_funcion():\n",
    "    pass\n"
   ]
  },
  {
   "cell_type": "code",
   "execution_count": 67,
   "id": "45d92c3f-707f-441e-92cd-af701078cacb",
   "metadata": {},
   "outputs": [],
   "source": [
    "def suma(a,b):\n",
    "    suma=a+b\n",
    "    return suma"
   ]
  },
  {
   "cell_type": "code",
   "execution_count": 68,
   "id": "b9ea75c6-bf22-4338-b0d2-1779db5fd99c",
   "metadata": {},
   "outputs": [
    {
     "data": {
      "text/plain": [
       "8"
      ]
     },
     "execution_count": 68,
     "metadata": {},
     "output_type": "execute_result"
    }
   ],
   "source": [
    "suma(2,6)"
   ]
  },
  {
   "cell_type": "code",
   "execution_count": 70,
   "id": "cbad0eb9-f48c-48f2-bc09-91f97d1e127f",
   "metadata": {},
   "outputs": [
    {
     "data": {
      "text/plain": [
       "'hola diego'"
      ]
     },
     "execution_count": 70,
     "metadata": {},
     "output_type": "execute_result"
    }
   ],
   "source": [
    "def saludar(nombre):\n",
    "    return \"hola \" + nombre\n",
    "\n",
    "saludar(\"diego\")"
   ]
  },
  {
   "cell_type": "code",
   "execution_count": null,
   "id": "a2bf9c3a-2361-4289-8117-87c6182a3928",
   "metadata": {},
   "outputs": [],
   "source": []
  }
 ],
 "metadata": {
  "kernelspec": {
   "display_name": "Python 3 (ipykernel)",
   "language": "python",
   "name": "python3"
  },
  "language_info": {
   "codemirror_mode": {
    "name": "ipython",
    "version": 3
   },
   "file_extension": ".py",
   "mimetype": "text/x-python",
   "name": "python",
   "nbconvert_exporter": "python",
   "pygments_lexer": "ipython3",
   "version": "3.9.19"
  }
 },
 "nbformat": 4,
 "nbformat_minor": 5
}
