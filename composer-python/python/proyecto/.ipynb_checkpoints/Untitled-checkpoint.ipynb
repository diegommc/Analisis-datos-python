{
 "cells": [
  {
   "cell_type": "code",
   "execution_count": null,
   "id": "af4e2cca-b6ca-48d5-9092-f337e202cc7b",
   "metadata": {},
   "outputs": [],
   "source": [
    "import numpy as np\n",
    "import pandas as pd\n",
    "import matplotlib.pyplot as plt\n",
    "import pandas as pd"
   ]
  },
  {
   "cell_type": "code",
   "execution_count": null,
   "id": "914f6f58-ae18-4fff-b02d-e72448915597",
   "metadata": {},
   "outputs": [],
   "source": [
    "#leer el csv\n",
    "df_covid = pd.read_csv('./owid-covid-data.csv')\n",
    "df_covid"
   ]
  },
  {
   "cell_type": "code",
   "execution_count": null,
   "id": "315175d2-8049-4206-91c9-b97df8a77bff",
   "metadata": {},
   "outputs": [],
   "source": [
    "df_covid.info()"
   ]
  },
  {
   "cell_type": "code",
   "execution_count": null,
   "id": "3b0fccbe-fe50-40b4-8292-56c9e8e06ee8",
   "metadata": {},
   "outputs": [],
   "source": [
    "df_covid.describe()"
   ]
  },
  {
   "cell_type": "code",
   "execution_count": null,
   "id": "df09e09b-0a45-4df7-b901-43670a9ada6e",
   "metadata": {},
   "outputs": [],
   "source": [
    "#data cleaning\n",
    "dfcovid = df_covid.copy()\n"
   ]
  },
  {
   "cell_type": "code",
   "execution_count": null,
   "id": "61512965-4098-4086-bb1a-af5bf3ee338b",
   "metadata": {},
   "outputs": [],
   "source": [
    "dfcovid.isnull().sum()"
   ]
  },
  {
   "cell_type": "code",
   "execution_count": null,
   "id": "d0f9f109-7727-4bf7-9c55-3cec27f69e8c",
   "metadata": {},
   "outputs": [],
   "source": [
    "round(dfcovid.isnull().sum().div(len(dfcovid)).mul(100), 1)"
   ]
  },
  {
   "cell_type": "code",
   "execution_count": null,
   "id": "cd947b23-7d78-4051-9d82-6ce88f4129d4",
   "metadata": {},
   "outputs": [],
   "source": [
    "df = dfcovid.drop(['excess_mortality_cumulative_absolute'], axis=1, inplace=True)# feature engineering sacamos algunas variables que no nos sirven o tienen muchos nulos\n",
    "df = dfcovid.drop(['excess_mortality_cumulative'], axis=1, inplace=True)\n",
    "df = dfcovid.drop(['excess_mortality'], axis=1, inplace=True)\n",
    "df = dfcovid.drop(['excess_mortality_cumulative_per_million'], axis=1, inplace=True)\n",
    "df = dfcovid.drop(['handwashing_facilities'], axis=1, inplace=True)\n",
    "df = dfcovid.drop(['male_smokers'], axis=1, inplace=True)\n",
    "df = dfcovid.drop(['female_smokers'], axis=1, inplace=True)\n",
    "df = dfcovid.drop(['icu_patients'], axis=1, inplace=True)\n",
    "df = dfcovid.drop(['icu_patients_per_million'], axis=1, inplace=True)\n",
    "df = dfcovid.drop(['hosp_patients'], axis=1, inplace=True)\n",
    "df = dfcovid.drop(['hosp_patients_per_million'], axis=1, inplace=True)\n",
    "df = dfcovid.drop(['weekly_icu_admissions'], axis=1, inplace=True)\n",
    "df = dfcovid.drop(['weekly_icu_admissions_per_million'], axis=1, inplace=True)\n",
    "df = dfcovid.drop(['weekly_hosp_admissions'], axis=1, inplace=True)\n",
    "df = dfcovid.drop(['weekly_hosp_admissions_per_million'], axis=1, inplace=True)\n",
    "df = dfcovid.drop(['new_tests'], axis=1, inplace=True)\n",
    "df = dfcovid.drop(['total_boosters_per_hundred'], axis=1, inplace=True)\n",
    "df = dfcovid.drop(['stringency_index'], axis=1, inplace=True)\n",
    "df = dfcovid.drop(['gdp_per_capita'], axis=1, inplace=True)\n",
    "df = dfcovid.drop(['total_boosters'], axis=1, inplace=True)\n"
   ]
  },
  {
   "cell_type": "code",
   "execution_count": null,
   "id": "9424f311-c496-4fd7-9d91-08f5c076eeeb",
   "metadata": {},
   "outputs": [],
   "source": [
    "round(dfcovid.isnull().sum().div(len(dfcovid)).mul(100), 1)# porcentaje de nulos en cada columna"
   ]
  },
  {
   "cell_type": "code",
   "execution_count": null,
   "id": "23207fda-8818-4cb9-b75b-08e0d141be60",
   "metadata": {},
   "outputs": [],
   "source": [
    "dfcovid"
   ]
  },
  {
   "cell_type": "code",
   "execution_count": null,
   "id": "af0e0ce9-ab34-43ca-a6e2-7f4a7a06f468",
   "metadata": {},
   "outputs": [],
   "source": [
    "grouped_sum = dfcovid.groupby('continent').sum()\n",
    "print(\"\\nGrouped by 'Category' and summed:\")\n",
    "print(grouped_sum)"
   ]
  },
  {
   "cell_type": "code",
   "execution_count": null,
   "id": "f8763255-00cf-466b-ab74-8de19a9684af",
   "metadata": {},
   "outputs": [],
   "source": [
    "dfcovid = dfcovid.dropna() #borro nulos por que no puedo graficar con nulos\n",
    "dfcovid['total_cases'] = dfcovid['total_cases'].astype(int) #convierto de float a integer para poder graficar "
   ]
  },
  {
   "cell_type": "code",
   "execution_count": null,
   "id": "16a1ef88-18f9-4404-b4c1-f28078d725a9",
   "metadata": {},
   "outputs": [],
   "source": [
    "plt.bar(dfcovid['continent'], dfcovid['total_cases']) #grafica \n",
    "plt.title('Bar Plot')\n",
    "plt.xlabel('Continent')\n",
    "plt.ylabel('total cases')\n",
    "plt.show()"
   ]
  },
  {
   "cell_type": "code",
   "execution_count": null,
   "id": "6b9901c1-7da9-4f18-94bc-053b701f5852",
   "metadata": {},
   "outputs": [],
   "source": []
  }
 ],
 "metadata": {
  "kernelspec": {
   "display_name": "Python 3 (ipykernel)",
   "language": "python",
   "name": "python3"
  },
  "language_info": {
   "codemirror_mode": {
    "name": "ipython",
    "version": 3
   },
   "file_extension": ".py",
   "mimetype": "text/x-python",
   "name": "python",
   "nbconvert_exporter": "python",
   "pygments_lexer": "ipython3",
   "version": "3.9.19"
  }
 },
 "nbformat": 4,
 "nbformat_minor": 5
}
